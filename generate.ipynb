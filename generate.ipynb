{
 "cells": [
  {
   "cell_type": "code",
   "execution_count": 1,
   "metadata": {},
   "outputs": [
    {
     "name": "stderr",
     "output_type": "stream",
     "text": [
      "/home/azureuser/miniconda3/envs/kokoro_env/lib/python3.10/site-packages/tqdm/auto.py:21: TqdmWarning: IProgress not found. Please update jupyter and ipywidgets. See https://ipywidgets.readthedocs.io/en/stable/user_install.html\n",
      "  from .autonotebook import tqdm as notebook_tqdm\n"
     ]
    }
   ],
   "source": [
    "from kokoro import KModel\n",
    "import torch\n",
    "from misaki import en\n",
    "import numpy as np\n",
    "import os\n",
    "import IPython.display as ipd\n"
   ]
  },
  {
   "cell_type": "code",
   "execution_count": 2,
   "metadata": {},
   "outputs": [],
   "source": [
    "def load_bin_voice(voice_path: str) -> torch.Tensor:\n",
    "    \"\"\"\n",
    "    Load a .bin voice file as a PyTorch tensor.\n",
    "    \n",
    "    Args:\n",
    "        voice_path: Path to the .bin voice file\n",
    "        \n",
    "    Returns:\n",
    "        PyTorch tensor containing the voice data\n",
    "    \"\"\"\n",
    "    if not os.path.exists(voice_path):\n",
    "        raise FileNotFoundError(f\"Voice file not found: {voice_path}\")\n",
    "    \n",
    "    if not voice_path.endswith('.bin'):\n",
    "        raise ValueError(f\"Expected a .bin file, got: {voice_path}\")\n",
    "    \n",
    "    # Load the binary file as a numpy array of float32 values\n",
    "    voice_data = np.fromfile(voice_path, dtype=np.float32).reshape(-1, 1, 256)\n",
    "    # Convert to PyTorch tensor\n",
    "    voice_tensor = torch.tensor(voice_data, dtype=torch.float32)\n",
    "    \n",
    "    # Return the tensor\n",
    "    return voice_tensor"
   ]
  },
  {
   "cell_type": "code",
   "execution_count": 59,
   "metadata": {},
   "outputs": [
    {
     "data": {
      "text/plain": [
       "torch.Size([1, 256])"
      ]
     },
     "execution_count": 59,
     "metadata": {},
     "output_type": "execute_result"
    }
   ],
   "source": [
    "ref_s.shape"
   ]
  },
  {
   "cell_type": "code",
   "execution_count": 5,
   "metadata": {},
   "outputs": [
    {
     "ename": "ValueError",
     "evalue": "expected sequence of length 41 at dim 1 (got 32)",
     "output_type": "error",
     "traceback": [
      "\u001b[0;31m---------------------------------------------------------------------------\u001b[0m",
      "\u001b[0;31mValueError\u001b[0m                                Traceback (most recent call last)",
      "\u001b[1;32m/home/azureuser/kokoro/generate.ipynb Cell 3\u001b[0m line \u001b[0;36m1\n\u001b[1;32m      <a href='vscode-notebook-cell://ssh-remote%2B4.213.162.247/home/azureuser/kokoro/generate.ipynb#W2sdnNjb2RlLXJlbW90ZQ%3D%3D?line=7'>8</a>\u001b[0m tokens \u001b[39m=\u001b[39m \u001b[39mlist\u001b[39m(\u001b[39mfilter\u001b[39m(\u001b[39mlambda\u001b[39;00m i: i \u001b[39mis\u001b[39;00m \u001b[39mnot\u001b[39;00m \u001b[39mNone\u001b[39;00m, \u001b[39mmap\u001b[39m(\u001b[39mlambda\u001b[39;00m p: model\u001b[39m.\u001b[39mvocab\u001b[39m.\u001b[39mget(p), ps)))\n\u001b[1;32m     <a href='vscode-notebook-cell://ssh-remote%2B4.213.162.247/home/azureuser/kokoro/generate.ipynb#W2sdnNjb2RlLXJlbW90ZQ%3D%3D?line=9'>10</a>\u001b[0m ref_s \u001b[39m=\u001b[39m load_bin_voice(\u001b[39m\"\u001b[39m\u001b[39mkokoro.js/voices/af_heart.bin\u001b[39m\u001b[39m\"\u001b[39m)[\u001b[39mlen\u001b[39m(tokens)\u001b[39m-\u001b[39m\u001b[39m1\u001b[39m]\n\u001b[0;32m---> <a href='vscode-notebook-cell://ssh-remote%2B4.213.162.247/home/azureuser/kokoro/generate.ipynb#W2sdnNjb2RlLXJlbW90ZQ%3D%3D?line=10'>11</a>\u001b[0m input_ids \u001b[39m=\u001b[39m torch\u001b[39m.\u001b[39;49mtensor([[\u001b[39m0\u001b[39;49m,\u001b[39m*\u001b[39;49mtokens,\u001b[39m0\u001b[39;49m], [\u001b[39m0\u001b[39;49m,\u001b[39m*\u001b[39;49mtokens[:\u001b[39m30\u001b[39;49m],\u001b[39m0\u001b[39;49m]], dtype\u001b[39m=\u001b[39;49mtorch\u001b[39m.\u001b[39;49mlong)\n\u001b[1;32m     <a href='vscode-notebook-cell://ssh-remote%2B4.213.162.247/home/azureuser/kokoro/generate.ipynb#W2sdnNjb2RlLXJlbW90ZQ%3D%3D?line=11'>12</a>\u001b[0m audio, _ \u001b[39m=\u001b[39m model\u001b[39m.\u001b[39mforward_with_tokens(input_ids, ref_s, \u001b[39m1.0\u001b[39m)\n\u001b[1;32m     <a href='vscode-notebook-cell://ssh-remote%2B4.213.162.247/home/azureuser/kokoro/generate.ipynb#W2sdnNjb2RlLXJlbW90ZQ%3D%3D?line=12'>13</a>\u001b[0m ipd\u001b[39m.\u001b[39mAudio(audio, rate\u001b[39m=\u001b[39m\u001b[39m24000\u001b[39m)\n",
      "\u001b[0;31mValueError\u001b[0m: expected sequence of length 41 at dim 1 (got 32)"
     ]
    }
   ],
   "source": [
    "# Initialize pipeline with American English\n",
    "g2p = en.G2P(trf=False, british=False, fallback=None, unk='')\n",
    "\n",
    "# Example 1: Using the pipeline with a voice name\n",
    "text = \"This is a test! I'm going to the store.\"\n",
    "ps, mtoks = g2p(text)\n",
    "model = KModel(repo_id=\"hexgrad/Kokoro-82M\").to(\"cpu\").eval()\n",
    "tokens = list(filter(lambda i: i is not None, map(lambda p: model.vocab.get(p), ps)))\n",
    "\n",
    "ref_s = load_bin_voice(\"kokoro.js/voices/af_heart.bin\")[len(tokens)-1]\n",
    "input_ids = torch.tensor([[0,*tokens,0], [0,*tokens[:30],0]], dtype=torch.long)\n",
    "audio, _ = model.forward_with_tokens(input_ids, ref_s, 1.0)\n",
    "ipd.Audio(audio, rate=24000)"
   ]
  },
  {
   "cell_type": "code",
   "execution_count": 20,
   "metadata": {},
   "outputs": [
    {
     "name": "stdout",
     "output_type": "stream",
     "text": [
      "torch.Size([1, 10, 1]) tensor([[[1.],\n",
      "         [1.],\n",
      "         [1.],\n",
      "         [1.],\n",
      "         [1.],\n",
      "         [1.],\n",
      "         [1.],\n",
      "         [1.],\n",
      "         [1.],\n",
      "         [1.]]])\n"
     ]
    }
   ],
   "source": [
    "a= torch.arange(10)\n",
    "dur_a = torch.ones(10, dtype=torch.long)\n",
    "dur_a[3:7] = 2\n",
    "\n",
    "a= a.unsqueeze(0)\n",
    "\n",
    "indices = torch.repeat_interleave(torch.arange(a.shape[1]), dur_a)\n",
    "pred_aln_trg = torch.zeros((a.shape[1], a.shape[0]))\n",
    "pred_aln_trg[indices, torch.arange(a.shape[0])] = 1\n",
    "pred_aln_trg = pred_aln_trg.unsqueeze(0)\n",
    "print(pred_aln_trg.shape, pred_aln_trg)\n"
   ]
  },
  {
   "cell_type": "code",
   "execution_count": 49,
   "metadata": {},
   "outputs": [
    {
     "data": {
      "text/plain": [
       "torch.Size([5000, 1026, 1])"
      ]
     },
     "execution_count": 49,
     "metadata": {},
     "output_type": "execute_result"
    }
   ],
   "source": [
    "a= torch.ones(1024, 5000, 1).transpose(0,1)\n",
    "conv = torch.nn.utils.weight_norm(torch.nn.Conv1d(1, 1, kernel_size=3, stride=2, groups=1, padding=1))\n",
    "torch.cat([a, conv(torch.ones(5000,1).unsqueeze(1)),conv(torch.ones(5000,1).unsqueeze(1))],axis=1).shape"
   ]
  },
  {
   "cell_type": "code",
   "execution_count": 57,
   "metadata": {},
   "outputs": [
    {
     "ename": "RuntimeError",
     "evalue": "The size of tensor a (5000) must match the size of tensor b (10000) at non-singleton dimension 2",
     "output_type": "error",
     "traceback": [
      "\u001b[0;31m---------------------------------------------------------------------------\u001b[0m",
      "\u001b[0;31mRuntimeError\u001b[0m                              Traceback (most recent call last)",
      "\u001b[1;32m/home/azureuser/kokoro/generate.ipynb Cell 6\u001b[0m line \u001b[0;36m1\n\u001b[0;32m----> <a href='vscode-notebook-cell://ssh-remote%2B4.213.162.247/home/azureuser/kokoro/generate.ipynb#W5sdnNjb2RlLXJlbW90ZQ%3D%3D?line=0'>1</a>\u001b[0m torch\u001b[39m.\u001b[39;49mones(\u001b[39m5\u001b[39;49m,\u001b[39m1\u001b[39;49m,\u001b[39m5000\u001b[39;49m)\u001b[39m+\u001b[39;49mtorch\u001b[39m.\u001b[39;49mnn\u001b[39m.\u001b[39;49mfunctional\u001b[39m.\u001b[39;49minterpolate(torch\u001b[39m.\u001b[39;49mones(\u001b[39m5\u001b[39;49m,\u001b[39m1\u001b[39;49m,\u001b[39m5000\u001b[39;49m), scale_factor\u001b[39m=\u001b[39;49m\u001b[39m2\u001b[39;49m, mode\u001b[39m=\u001b[39;49m\u001b[39m\"\u001b[39;49m\u001b[39mnearest\u001b[39;49m\u001b[39m\"\u001b[39;49m)\n",
      "\u001b[0;31mRuntimeError\u001b[0m: The size of tensor a (5000) must match the size of tensor b (10000) at non-singleton dimension 2"
     ]
    }
   ],
   "source": [
    "torch.ones(5,1,5000)+torch.nn.functional.interpolate(torch.ones(5,1,5000), scale_factor=2, mode=\"nearest\")"
   ]
  }
 ],
 "metadata": {
  "language_info": {
   "name": "python"
  }
 },
 "nbformat": 4,
 "nbformat_minor": 2
}
